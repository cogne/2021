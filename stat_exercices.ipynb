{
 "cells": [
  {
   "cell_type": "code",
   "execution_count": 1,
   "id": "6210ea72-7259-44cd-ab9c-1e1285ea925e",
   "metadata": {},
   "outputs": [],
   "source": [
    "import pandas as pd\n",
    "import numpy as np"
   ]
  },
  {
   "cell_type": "markdown",
   "id": "f90f713b-8f82-45ec-ba49-85e2480e2cd5",
   "metadata": {},
   "source": [
    "### SDS - E9.2\n",
    "Multiple Hypothesis"
   ]
  },
  {
   "cell_type": "code",
   "execution_count": 15,
   "id": "3530a26f-73ba-4808-b7cd-a4d6533ac259",
   "metadata": {},
   "outputs": [],
   "source": [
    "p = [0.00012, 0.00332, 0.00439,0.00664,0.00778,0.00934,0.00987,0.00999,0.01113,0.01123,0.0345,0.0597, 0.06678,0.12358,0.59823]\n",
    "p = np.sort(p)\n",
    "alpha = 0.05\n",
    "m = len(p)\n",
    "l = [i*alpha/m for i in range(1,m+1)]\n",
    "t = list(zip(p,l))\n",
    "r_list = [x[0]<x[1] for x in t]\n",
    "r = t[11][0]\n",
    "h0_rejected = [x<r for x in p]"
   ]
  },
  {
   "cell_type": "code",
   "execution_count": 16,
   "id": "34c81e59-9870-43b4-92b9-57fdef23ff7a",
   "metadata": {},
   "outputs": [
    {
     "data": {
      "text/plain": [
       "[True,\n",
       " True,\n",
       " True,\n",
       " True,\n",
       " True,\n",
       " True,\n",
       " True,\n",
       " True,\n",
       " True,\n",
       " True,\n",
       " True,\n",
       " False,\n",
       " False,\n",
       " False,\n",
       " False]"
      ]
     },
     "execution_count": 16,
     "metadata": {},
     "output_type": "execute_result"
    }
   ],
   "source": [
    "h0_rejected"
   ]
  },
  {
   "cell_type": "code",
   "execution_count": 14,
   "id": "53b38be9-f21b-4b87-8716-5904622223fd",
   "metadata": {},
   "outputs": [
    {
     "data": {
      "text/plain": [
       "(0.0597, 0.04000000000000001)"
      ]
     },
     "execution_count": 14,
     "metadata": {},
     "output_type": "execute_result"
    }
   ],
   "source": [
    "t[11]"
   ]
  },
  {
   "cell_type": "code",
   "execution_count": null,
   "id": "01a7964e-9439-4bad-896b-c01e6929d26c",
   "metadata": {},
   "outputs": [],
   "source": []
  }
 ],
 "metadata": {
  "kernelspec": {
   "display_name": "Python 3 (ipykernel)",
   "language": "python",
   "name": "python3"
  },
  "language_info": {
   "codemirror_mode": {
    "name": "ipython",
    "version": 3
   },
   "file_extension": ".py",
   "mimetype": "text/x-python",
   "name": "python",
   "nbconvert_exporter": "python",
   "pygments_lexer": "ipython3",
   "version": "3.9.7"
  }
 },
 "nbformat": 4,
 "nbformat_minor": 5
}
