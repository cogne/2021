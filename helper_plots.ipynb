{
 "cells": [
  {
   "cell_type": "code",
   "execution_count": null,
   "id": "b39828a6-f0e5-4cad-a02c-1032d8a60e70",
   "metadata": {
    "tags": []
   },
   "outputs": [],
   "source": [
    "# Simple plot with some features that can be changes (T02)\n",
    "plt.plot(stats_by_year.average_worldwide_gross, color = 'black')\n",
    "plt.loglog(array_100[1][1:],array_100[0])\n",
    "plt.xlabel('')\n",
    "plt.ylabel('')\n",
    "plt.title('')\n",
    "plt.show()"
   ]
  },
  {
   "cell_type": "code",
   "execution_count": null,
   "id": "395f08af-7830-40b0-9a4a-77e0d2d8c8d8",
   "metadata": {},
   "outputs": [],
   "source": [
    "# Subplots (T02)\n",
    "fig, ax = plt.subplots(4,4,figsize= (8,6), sharey = True, sharex = True)\n",
    "\n",
    "for i in range(16):\n",
    "    sbplt = ax[i%4, math.floor(i/4)]\n",
    "    sbplt.hist(stats_by_genre.iloc[i].values,range = [0,200],bins = 20)\n",
    "    sbplt.set_title(stats_by_genre.index[i])\n",
    "    \n",
    "fig.tight_layout()\n",
    "fig.text(0.4,0, \"Movie length in minutes\")\n",
    "fig.text(0,0.6, \"Number of movies\", rotation = 90)"
   ]
  },
  {
   "cell_type": "code",
   "execution_count": null,
   "id": "055c3760-22ab-4d48-9bbe-ef1a384571aa",
   "metadata": {},
   "outputs": [],
   "source": [
    "# Heatmap (T02)\n",
    "df2 = pd.crosstab(movies['Main_Genre'],movies['studio'])\n",
    "sns.heatmap(df2, annot=True, vmin = 0, vmax = 20)"
   ]
  },
  {
   "cell_type": "code",
   "execution_count": null,
   "id": "5a73ae4b-b734-4841-8b96-3c223b1dd594",
   "metadata": {},
   "outputs": [],
   "source": [
    "# Barplot with uncertainty\n",
    "ax = sns.barplot(x=\"State\", y=\"IncomePerCap\", data=df.loc[df['State'].isin(['New York','California'])])"
   ]
  },
  {
   "cell_type": "code",
   "execution_count": null,
   "id": "ca6c1ed1-636e-4941-859e-9cb3ba7ca0e0",
   "metadata": {},
   "outputs": [],
   "source": [
    "# Plot data and regression model fits across a FacetGrid\n",
    "# hue --> Variables that define subsets of the data\n",
    "SetA_per_capita_self_empl = per_capita_self_empl.query(\"State == 'Wisconsin' | \\\n",
    "                                                        State == 'Tennessee' | \\\n",
    "                                                        State == 'Minnesota' \") \n",
    "\n",
    "sn.lmplot('SelfEmployed','IncomePerCap', data=SetA_per_capita_self_empl, hue = [])\n",
    "plt.xlabel(\"Percentage of Self Employed people [%]\")\n",
    "plt.ylabel(\"Income per Capita [$]\")\n",
    "plt.ylim([10000,50000])\n",
    "plt.xlim([0,22])"
   ]
  },
  {
   "cell_type": "code",
   "execution_count": null,
   "id": "0b303665-d47d-4142-83fb-1f23d2195e28",
   "metadata": {},
   "outputs": [],
   "source": [
    "# ROC Curve (T06)\n",
    "# Predict the probabilities with a cross validationn\n",
    "y_pred = cross_val_predict(logistic, X, y, cv=10, method=\"predict_proba\")\n",
    "# Compute the False Positive Rate and True Positive Rate\n",
    "fpr, tpr, _ = roc_curve(y, y_pred[:, 1])\n",
    "# Compute the area under the fpt-tpf curve\n",
    "auc_score = auc(fpr, tpr)\n",
    "\n",
    "plt.plot(fpr, tpr)\n",
    "plt.plot([0, 1], [0, 1],'r--')\n",
    "plt.xlabel(\"False Positive Rate\")\n",
    "plt.ylabel(\"True Positive Rate\")\n",
    "plt.title(\"ROC Curve - Area = {:.5f}\".format(auc_score));"
   ]
  },
  {
   "cell_type": "code",
   "execution_count": null,
   "id": "1062852c-c8ae-4e8d-b99e-17977a972a5e",
   "metadata": {},
   "outputs": [],
   "source": [
    "# Plot error bars (T04)\n",
    "plt.errorbar(l1, np.array(range(len(l1))), xerr= 2*np.array(l3), linewidth = 1,\n",
    "             linestyle = 'none',marker = 'o',markersize= 3,\n",
    "             markerfacecolor = 'black',markeredgecolor = 'black', capsize= 5)\n",
    "\n",
    "plt.vlines(0,0, len(l1), linestyle = '--')\n",
    "\n",
    "plt.yticks(range(len(l2)),l2);"
   ]
  },
  {
   "cell_type": "code",
   "execution_count": null,
   "id": "414fe2b3-8703-4f20-a6ec-de381d1445be",
   "metadata": {},
   "outputs": [],
   "source": [
    "# Plot result of OLS (y and predicted) (T06)\n",
    "fig, ax = plt.subplots(figsize=(12, 8))\n",
    "ax.scatter(y, predicted, edgecolors=(0, 0, 0))\n",
    "ax.plot([min(y), max(y)], [min(y), max(y)], 'r--', lw=4)\n",
    "ax.set_xlabel('Original')\n",
    "ax.set_ylabel('Predicted')\n",
    "plt.show()"
   ]
  },
  {
   "cell_type": "markdown",
   "id": "03a7c01a-6871-4cb9-9250-e66cd861995a",
   "metadata": {},
   "source": [
    "##### Unsupervised Learning K-NN"
   ]
  },
  {
   "cell_type": "code",
   "execution_count": null,
   "id": "8d0522a4-eb3e-4665-a341-287a0082b0c7",
   "metadata": {},
   "outputs": [],
   "source": [
    "# Plot Results of a K-NN\n",
    "from matplotlib.colors import ListedColormap\n",
    "\n",
    "def plot_prediction(model, X, y, ax, K):\n",
    "    # step size in the mesh\n",
    "    h = .02\n",
    "    # Create color maps\n",
    "    cmap_light = ListedColormap(['orange', 'cyan', 'cornflowerblue'])\n",
    "    cmap_bold = ListedColormap(['darkorange', 'c', 'darkblue'])\n",
    "\n",
    "    x_min, x_max = X[:, 0].min() - 1, X[:, 0].max() + 1\n",
    "    y_min, y_max = X[:, 1].min() - 1, X[:, 1].max() + 1\n",
    "    xx, yy = np.meshgrid(np.arange(x_min, x_max, h),\n",
    "                         np.arange(y_min, y_max, h))\n",
    "    Z = model.predict(np.c_[xx.ravel(), yy.ravel()])\n",
    "\n",
    "    # Put the result into a color plot\n",
    "    Z = Z.reshape(xx.shape)\n",
    "    ax.pcolormesh(xx, yy, Z, cmap=cmap_light, shading='auto')\n",
    "\n",
    "    # Plot also the training points\n",
    "    ax.scatter(X[:, 0], X[:, 1], c=y, cmap=cmap_bold,\n",
    "                edgecolor='k', s=20)\n",
    "    ax.set_xlim(xx.min(), xx.max())\n",
    "    ax.set_ylim(yy.min(), yy.max())\n",
    "    ax.set_title(\"K = {}\".format(K))\n",
    "\n",
    "    \n",
    "fig, axs = plt.subplots(2, 2, figsize=(12,9))\n",
    "\n",
    "plot_prediction(clf_moons_1, X_moons, y_moons, axs[0][0], 1)\n",
    "plot_prediction(clf_circles_1, X_circles, y_circles, axs[0][1], 1)"
   ]
  },
  {
   "cell_type": "code",
   "execution_count": null,
   "id": "b865d0d1-737e-4047-a63f-2b6cc9c76d00",
   "metadata": {},
   "outputs": [],
   "source": [
    "# Plot histogram and line for the distribution\n",
    "ax = sns.distplot(treated['re78'], hist=True, label='treated');\n",
    "ax = sns.distplot(control['re78'], hist=True, label='control')\n",
    "ax.set(title='Income distribution comparison in 1978',xlabel='Income 1978', ylabel='Income density')\n",
    "plt.legend()\n",
    "plt.show()"
   ]
  },
  {
   "cell_type": "code",
   "execution_count": null,
   "id": "6030faec-4453-4c2a-93ab-6fb2e977b1a0",
   "metadata": {},
   "outputs": [],
   "source": [
    "# Plot confusion matrix\n",
    "def plot_confusion_matrix(confusion_matrix):\n",
    "    [[TP, FP],[FN, TN]] = confusion_matrix\n",
    "    label = np.asarray([['TP {}'.format(TP), 'FP {}'.format(FP)],\n",
    "                        ['FN {}'.format(FN), 'TN {}'.format(TN)]])\n",
    "    \n",
    "    df_cm = pd.DataFrame(confusion_matrix, index=['Yes', 'No'], columns=['Positive', 'Negative']) \n",
    "    \n",
    "    return sn.heatmap(df_cm, cmap='YlOrRd', annot=label, annot_kws={\"size\": 16}, cbar=False, fmt='')\n"
   ]
  },
  {
   "cell_type": "markdown",
   "id": "b9a9b1a3-e525-491e-829a-70b8f8fef349",
   "metadata": {},
   "source": [
    "##### Dimensionality Reduction"
   ]
  },
  {
   "cell_type": "code",
   "execution_count": null,
   "id": "7aa99fa8-34f3-4755-9cfb-8c1b0549f844",
   "metadata": {},
   "outputs": [],
   "source": [
    "# Plot PCA and t-SNE reduction (T08)\n",
    "fig, axs = plt.subplots(1, 2, figsize=(7,3), sharey=True)\n",
    "\n",
    "# Cluster the data in 3 groups\n",
    "labels = KMeans(n_clusters=3, random_state=0).fit_predict(X10d)\n",
    "\n",
    "# Plot the data reduced in 2d space with t-SNE\n",
    "axs[0].scatter(X_reduced_tsne[:,0], X_reduced_tsne[:,1], c=labels, alpha=0.6)\n",
    "axs[0].set_title(\"t-SNE\")\n",
    "\n",
    "# Plot the data reduced in 2d space with PCA\n",
    "axs[1].scatter(X_reduced_pca[:,0], X_reduced_pca[:,1], c=labels, alpha=0.6)\n",
    "axs[1].set_title(\"PCA\")"
   ]
  },
  {
   "cell_type": "markdown",
   "id": "88b8afc4-c5f9-4db6-b36d-26ea4c687b05",
   "metadata": {},
   "source": [
    "##### Unsupervised Learning DBSCAN"
   ]
  },
  {
   "cell_type": "code",
   "execution_count": null,
   "id": "135374a3-b378-4c02-8252-2668a51133fa",
   "metadata": {},
   "outputs": [],
   "source": [
    "# Plot DBSCAN with different parameters (T08)\n",
    "# Create a list of eps\n",
    "eps_list = np.linspace(0.05, 0.15, 14)\n",
    "\n",
    "# Compute number of row and columns\n",
    "COLUMNS = 7\n",
    "ROWS = math.ceil(len(eps_list)/COLUMNS)\n",
    "\n",
    "fig, axs = plt.subplots(ROWS, COLUMNS, figsize=(12, 4), sharey=True, sharex=True)\n",
    "\n",
    "for i in range(0, len(eps_list)):\n",
    "    eps = eps_list[i]\n",
    "    \n",
    "    current_column = i%COLUMNS\n",
    "    current_row = i//COLUMNS\n",
    "    \n",
    "    ax = axs[current_row, current_column]\n",
    "    labels = DBSCAN(eps=eps).fit_predict(X_moons)\n",
    "    ax.scatter(X_moons[:,0], X_moons[:,1], c=labels, alpha=0.6)\n",
    "    ax.set_title(\"eps = {:.3f}\".format(eps))\n",
    "    \n",
    "plt.tight_layout()"
   ]
  },
  {
   "cell_type": "markdown",
   "id": "3cc41bd4-db96-42d8-80ef-a46ce82f5cff",
   "metadata": {},
   "source": [
    "##### Graphs"
   ]
  },
  {
   "cell_type": "code",
   "execution_count": null,
   "id": "451fa4c7-48e4-45e5-8967-720df1e47b42",
   "metadata": {},
   "outputs": [],
   "source": [
    "# Plotting the degree distribution of a Graph (T10)\n",
    "def plot_degree_distribution(G):\n",
    "    degrees = {}\n",
    "    for node in G.nodes():\n",
    "        degree = G.degree(node)\n",
    "        if degree not in degrees:\n",
    "            degrees[degree] = 0\n",
    "        degrees[degree] += 1\n",
    "    sorted_degree = sorted(degrees.items())\n",
    "    deg = [k for (k,v) in sorted_degree]\n",
    "    cnt = [v for (k,v) in sorted_degree]\n",
    "    fig, ax = plt.subplots()\n",
    "    plt.bar(deg, cnt, width=0.80, color='b')\n",
    "    plt.title(\"Degree Distribution\")\n",
    "    plt.ylabel(\"Frequency\")\n",
    "    plt.xlabel(\"Degree\")\n",
    "    ax.set_xticks([d+0.05 for d in deg])\n",
    "    ax.set_xticklabels(deg)"
   ]
  },
  {
   "cell_type": "code",
   "execution_count": null,
   "id": "264c157a-84f0-463f-be09-67b7ae2b2e38",
   "metadata": {},
   "outputs": [],
   "source": [
    "# Helper function for printing various graph properties\n",
    "def describe_graph(G):\n",
    "    print(nx.info(G))\n",
    "    if nx.is_connected(G):\n",
    "        print(\"Avg. Shortest Path Length: %.4f\" %nx.average_shortest_path_length(G))\n",
    "        print(\"Diameter: %.4f\" %nx.diameter(G)) # Longest shortest path\n",
    "    else:\n",
    "        print(\"Graph is not connected\")\n",
    "        print(\"Diameter and Avg shortest path length are not defined!\")\n",
    "    print(\"Sparsity: %.4f\" %nx.density(G))  # #edges/#edges-complete-graph\n",
    "    # #closed-triplets(3*#triangles)/#all-triplets\n",
    "    print(\"Global clustering coefficient aka Transitivity: %.4f\" %nx.transitivity(G))"
   ]
  },
  {
   "cell_type": "code",
   "execution_count": null,
   "id": "e660c871-289b-4ff8-9225-8378af2cf61a",
   "metadata": {},
   "outputs": [],
   "source": [
    "# Helper function for visualizing the graph\n",
    "def visualize_graph(G, with_labels=True, k=None, alpha=1.0, node_shape='o'):\n",
    "    #nx.draw_spring(G, with_labels=with_labels, alpha = alpha)\n",
    "    pos = nx.spring_layout(G, k=k)\n",
    "    if with_labels:\n",
    "        lab = nx.draw_networkx_labels(G, pos, labels=dict([(n, n) for n in G.nodes()]))\n",
    "    ec = nx.draw_networkx_edges(G, pos, alpha=alpha)\n",
    "    nc = nx.draw_networkx_nodes(G, pos, nodelist=G.nodes(), node_color='g', node_shape=node_shape)\n",
    "    plt.axis('off')"
   ]
  },
  {
   "cell_type": "code",
   "execution_count": null,
   "id": "cd0eeb5b-f84c-4df0-88e9-b086901d02ef",
   "metadata": {},
   "outputs": [],
   "source": [
    "# Draw the graph with a circular layout instead?\n",
    "nx.draw_circular(karateG, with_labels=True,  node_color='g', alpha = 0.8)"
   ]
  },
  {
   "cell_type": "code",
   "execution_count": null,
   "id": "cc3ec3da-a448-4766-9ae3-5cee6b0a1bd6",
   "metadata": {},
   "outputs": [],
   "source": [
    "# Plot Graph degree distribution\n",
    "in_degree_freq = degree_histogram_directed(G, in_degree=True)\n",
    "out_degree_freq = degree_histogram_directed(G, out_degree=True)\n",
    "degrees = range(len(in_degree_freq))\n",
    "fig, axes = plt.subplots(2, 2, figsize = (15,10),gridspec_kw={'hspace': 0.4, 'wspace': 0.2})\n",
    "fig.suptitle(\"In and out degree distribution of the Wikispeedia Network (Left: linear axes, Right: Log axes)\", fontsize=20)\n",
    "axes[0][0].plot(range(len(in_degree_freq)), in_degree_freq, 'go-', label='In-degree')\n",
    "axes[0][1].loglog(range(len(in_degree_freq)), in_degree_freq, 'go-', label='In-degree') \n",
    "axes[1][0].plot(range(len(out_degree_freq)), out_degree_freq, 'bo-', label='Out-degree')\n",
    "axes[1][1].loglog(range(len(out_degree_freq)), out_degree_freq, 'bo-', label='Out-degree')\n",
    "for x in range(0,axes.shape[0]):\n",
    "    for y in range(0,axes.shape[1]):\n",
    "        axes[x,y].set_xlabel('Degree', fontsize = 20)\n",
    "        axes[x,y].set_ylabel('Frequency', fontsize = 20)\n",
    "        axes[x,y].legend(fontsize=15)\n",
    "fig.subplots_adjust(top=0.94)\n",
    "plt.show()"
   ]
  },
  {
   "cell_type": "code",
   "execution_count": null,
   "id": "5863eca9-2cc1-47ac-8756-c883a3b96247",
   "metadata": {},
   "outputs": [],
   "source": [
    "# Plot a distribution in an horizontal way\n",
    "plt.barh(subreddits_by_pl.subreddit, subreddits_by_pl.posts_length, xerr=subreddits_by_pl.ci99)\n",
    "plt.xlabel('Post length average (CI 99%)')\n",
    "plt.ylabel('Subreddit')\n",
    "plt.title('Average posts length')\n",
    "plt.show()"
   ]
  }
 ],
 "metadata": {
  "kernelspec": {
   "display_name": "Python 3 (ipykernel)",
   "language": "python",
   "name": "python3"
  },
  "language_info": {
   "codemirror_mode": {
    "name": "ipython",
    "version": 3
   },
   "file_extension": ".py",
   "mimetype": "text/x-python",
   "name": "python",
   "nbconvert_exporter": "python",
   "pygments_lexer": "ipython3",
   "version": "3.8.12"
  }
 },
 "nbformat": 4,
 "nbformat_minor": 5
}
