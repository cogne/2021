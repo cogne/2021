{
 "cells": [
  {
   "cell_type": "code",
   "execution_count": 1,
   "id": "d3077ee6-7dad-4974-b2bf-4a6d3ac3e551",
   "metadata": {},
   "outputs": [],
   "source": [
    "import pandas as pd"
   ]
  },
  {
   "cell_type": "markdown",
   "id": "9b1ab6b5-7ded-4b01-a9db-1a910880a812",
   "metadata": {},
   "source": [
    "Load the data and drop the Nan values"
   ]
  },
  {
   "cell_type": "code",
   "execution_count": 84,
   "id": "d54e8dc9-ad31-418b-94c5-8006f092b31f",
   "metadata": {},
   "outputs": [],
   "source": [
    "df_init = pd.read_csv('./data/interactive_data.csv')\n",
    "df = df_init.loc[~(df=='None selected').any(axis=1)]"
   ]
  },
  {
   "cell_type": "markdown",
   "id": "60b520a4-0b58-428e-9126-059d0c875540",
   "metadata": {},
   "source": [
    "Looking at the first rows of the data"
   ]
  },
  {
   "cell_type": "code",
   "execution_count": 85,
   "id": "68246f89-4d70-4433-95a4-f573cbac7011",
   "metadata": {},
   "outputs": [
    {
     "data": {
      "text/html": [
       "<div>\n",
       "<style scoped>\n",
       "    .dataframe tbody tr th:only-of-type {\n",
       "        vertical-align: middle;\n",
       "    }\n",
       "\n",
       "    .dataframe tbody tr th {\n",
       "        vertical-align: top;\n",
       "    }\n",
       "\n",
       "    .dataframe thead th {\n",
       "        text-align: right;\n",
       "    }\n",
       "</style>\n",
       "<table border=\"1\" class=\"dataframe\">\n",
       "  <thead>\n",
       "    <tr style=\"text-align: right;\">\n",
       "      <th></th>\n",
       "      <th>Unnamed: 0</th>\n",
       "      <th>Intent</th>\n",
       "      <th>Gender</th>\n",
       "      <th>Age</th>\n",
       "      <th>Race</th>\n",
       "      <th>Deaths</th>\n",
       "      <th>Population</th>\n",
       "      <th>Rate</th>\n",
       "    </tr>\n",
       "  </thead>\n",
       "  <tbody>\n",
       "    <tr>\n",
       "      <th>151</th>\n",
       "      <td>152</td>\n",
       "      <td>Suicide</td>\n",
       "      <td>Female</td>\n",
       "      <td>Under 15</td>\n",
       "      <td>White</td>\n",
       "      <td>19</td>\n",
       "      <td>15355910</td>\n",
       "      <td>0.1</td>\n",
       "    </tr>\n",
       "    <tr>\n",
       "      <th>152</th>\n",
       "      <td>153</td>\n",
       "      <td>Suicide</td>\n",
       "      <td>Female</td>\n",
       "      <td>Under 15</td>\n",
       "      <td>Black</td>\n",
       "      <td>1</td>\n",
       "      <td>4095428</td>\n",
       "      <td>0.0</td>\n",
       "    </tr>\n",
       "    <tr>\n",
       "      <th>153</th>\n",
       "      <td>154</td>\n",
       "      <td>Suicide</td>\n",
       "      <td>Female</td>\n",
       "      <td>Under 15</td>\n",
       "      <td>Hispanic</td>\n",
       "      <td>4</td>\n",
       "      <td>7330024</td>\n",
       "      <td>0.1</td>\n",
       "    </tr>\n",
       "    <tr>\n",
       "      <th>154</th>\n",
       "      <td>155</td>\n",
       "      <td>Suicide</td>\n",
       "      <td>Female</td>\n",
       "      <td>Under 15</td>\n",
       "      <td>Asian/Pacific Islander</td>\n",
       "      <td>1</td>\n",
       "      <td>1393440</td>\n",
       "      <td>0.1</td>\n",
       "    </tr>\n",
       "    <tr>\n",
       "      <th>155</th>\n",
       "      <td>156</td>\n",
       "      <td>Suicide</td>\n",
       "      <td>Female</td>\n",
       "      <td>Under 15</td>\n",
       "      <td>Other</td>\n",
       "      <td>0</td>\n",
       "      <td>1661877</td>\n",
       "      <td>0.0</td>\n",
       "    </tr>\n",
       "  </tbody>\n",
       "</table>\n",
       "</div>"
      ],
      "text/plain": [
       "     Unnamed: 0   Intent  Gender       Age                    Race  Deaths  \\\n",
       "151         152  Suicide  Female  Under 15                   White      19   \n",
       "152         153  Suicide  Female  Under 15                   Black       1   \n",
       "153         154  Suicide  Female  Under 15                Hispanic       4   \n",
       "154         155  Suicide  Female  Under 15  Asian/Pacific Islander       1   \n",
       "155         156  Suicide  Female  Under 15                   Other       0   \n",
       "\n",
       "     Population  Rate  \n",
       "151    15355910   0.1  \n",
       "152     4095428   0.0  \n",
       "153     7330024   0.1  \n",
       "154     1393440   0.1  \n",
       "155     1661877   0.0  "
      ]
     },
     "execution_count": 85,
     "metadata": {},
     "output_type": "execute_result"
    }
   ],
   "source": [
    "df.head()"
   ]
  },
  {
   "cell_type": "code",
   "execution_count": 86,
   "id": "ca1f424f-153b-4887-a8d2-5763e64258af",
   "metadata": {},
   "outputs": [],
   "source": [
    "TOTAL_DEATH = df.Deaths.values.sum()"
   ]
  },
  {
   "cell_type": "markdown",
   "id": "cd4f2f8c-451e-45f3-a24e-1ae5394c925b",
   "metadata": {},
   "source": [
    "**Question 1**: What is the proportion suicides in the gun deaths ?"
   ]
  },
  {
   "cell_type": "code",
   "execution_count": 87,
   "id": "c8f37b8a-1d20-43cb-82b5-05c8f13b3896",
   "metadata": {},
   "outputs": [],
   "source": [
    "df_suicide = df[df.Intent =='Suicide']\n",
    "total_suicide = sum(df_suicide.Deaths.values)\n",
    "ratio_suicide = (total_suicide/TOTAL_DEATH)"
   ]
  },
  {
   "cell_type": "code",
   "execution_count": 88,
   "id": "6efefcdc-2dcd-48bd-bec4-c21c8e9c18d2",
   "metadata": {},
   "outputs": [
    {
     "name": "stdout",
     "output_type": "stream",
     "text": [
      "In total 62.68% of the gun deaths is in the category 'suicide'\n"
     ]
    }
   ],
   "source": [
    "print(\"In total \"+\"{:.2%}\".format(ratio_suicide)+\" of the gun deaths is in the category 'suicide'\")"
   ]
  },
  {
   "cell_type": "markdown",
   "id": "470645de-85c5-4263-a15b-6858630a9a57",
   "metadata": {},
   "source": [
    "**Question 2**: More than 85 percent of suicide victims are male ? "
   ]
  },
  {
   "cell_type": "code",
   "execution_count": 89,
   "id": "45e43942-9e1e-4fe8-9bff-53f44c46511f",
   "metadata": {},
   "outputs": [],
   "source": [
    "df_suicide_male = df[(df.Intent =='Suicide') & (df.Gender =='Male')]\n",
    "total_suicide_male = sum(df_suicide_male.Deaths.values)\n",
    "ratio_suicide_male = (total_suicide_male/total_suicide)"
   ]
  },
  {
   "cell_type": "code",
   "execution_count": 90,
   "id": "d733ea7f-ad61-4b5f-93bf-ac4994cd23e4",
   "metadata": {},
   "outputs": [
    {
     "name": "stdout",
     "output_type": "stream",
     "text": [
      "In total 86.24% of the suicide are from the gender 'male'.\n"
     ]
    }
   ],
   "source": [
    "print(\"In total \"+\"{:.2%}\".format(ratio_suicide_male)+\" of the suicide are from the gender 'male'.\")"
   ]
  },
  {
   "cell_type": "markdown",
   "id": "a745753b-0c67-4acc-8e9d-3c1b190f213e",
   "metadata": {},
   "source": [
    "**Question 3**: Around a third of all gun deaths are homicides ?"
   ]
  },
  {
   "cell_type": "code",
   "execution_count": 91,
   "id": "ef4c1a4b-0306-40e6-ad85-5536f8ff374b",
   "metadata": {},
   "outputs": [],
   "source": [
    "df_homicide = df[df.Intent =='Homicide']\n",
    "total_homicide = df_homicide.Deaths.values.sum()\n",
    "ratio_homicide = (total_homicide/TOTAL_DEATH)"
   ]
  },
  {
   "cell_type": "code",
   "execution_count": 92,
   "id": "3875ac9f-1095-4e63-86c3-d455ed708e5b",
   "metadata": {},
   "outputs": [
    {
     "name": "stdout",
     "output_type": "stream",
     "text": [
      "In total 34.91% of the gun deaths is in the category 'homicide'.\n"
     ]
    }
   ],
   "source": [
    "print(\"In total \"+\"{:.2%}\".format(ratio_homicide)+\" of the gun deaths is in the category 'homicide'.\")"
   ]
  },
  {
   "cell_type": "markdown",
   "id": "cf49e477-5015-417e-9337-9fe26558e45c",
   "metadata": {},
   "source": [
    "**Question 4**:Around 2/3 of homicide victims who are males in the age-group of 15--34 are black."
   ]
  },
  {
   "cell_type": "code",
   "execution_count": 93,
   "id": "c6e987a3-c6ee-4243-8a9d-3640696add73",
   "metadata": {},
   "outputs": [],
   "source": [
    "df_select_Q4 = df[(df.Intent =='Homicide') & (df.Gender =='Male') & (df.Age =='15 - 34')]\n",
    "df_select_Q4_black = df[(df.Intent =='Homicide') & (df.Gender =='Male') & (df.Age =='15 - 34') & (df.Race =='Black')]\n",
    "total_select_Q4 = sum(df_select_Q4.Deaths.values)\n",
    "total_select_Q4_black = sum(df_select_Q4_black.Deaths.values)\n",
    "ratio_homicide = (total_select_Q4_black/total_select_Q4)"
   ]
  },
  {
   "cell_type": "code",
   "execution_count": 94,
   "id": "c03eb892-ad24-4703-acb5-de9b7b448108",
   "metadata": {},
   "outputs": [
    {
     "name": "stdout",
     "output_type": "stream",
     "text": [
      "In total 66.12% of the gun deaths is in the category 'homicide', with gender 'male', in the age '15-34' are black\n"
     ]
    }
   ],
   "source": [
    "print(\"In total \"+\"{:.2%}\".format(ratio_homicide)+\" of the gun deaths is in the category 'homicide', with gender 'male', in the age '15-34' are black\")"
   ]
  },
  {
   "cell_type": "markdown",
   "id": "378d130d-ab3d-4590-87d5-8279ce540f16",
   "metadata": {},
   "source": [
    "**Question 5**: Women constitue only 15 percent of the total homicide victims."
   ]
  },
  {
   "cell_type": "code",
   "execution_count": 95,
   "id": "ffc1256a-977c-490c-a1d4-01bdd3335c64",
   "metadata": {},
   "outputs": [],
   "source": [
    "df_homicide_women = df[(df.Intent =='Homicide') & (df.Gender =='Female')]\n",
    "total_homicide = sum(df_homicide.Deaths.values)\n",
    "total_homicide_women = sum(df_homicide_women.Deaths.values)\n",
    "ratio_homicide_women = (total_homicide_women/total_homicide)"
   ]
  },
  {
   "cell_type": "code",
   "execution_count": 96,
   "id": "c1aa1c96-2fda-4189-b577-1cb6a97edf27",
   "metadata": {},
   "outputs": [
    {
     "name": "stdout",
     "output_type": "stream",
     "text": [
      "In total 15.29% of the homicide is in the are from the gender 'Female'.\n"
     ]
    }
   ],
   "source": [
    "print(\"In total \"+\"{:.2%}\".format(ratio_homicide_women)+\" of the homicide is in the are from the gender 'Female'.\")"
   ]
  }
 ],
 "metadata": {
  "kernelspec": {
   "display_name": "Python 3 (ipykernel)",
   "language": "python",
   "name": "python3"
  },
  "language_info": {
   "codemirror_mode": {
    "name": "ipython",
    "version": 3
   },
   "file_extension": ".py",
   "mimetype": "text/x-python",
   "name": "python",
   "nbconvert_exporter": "python",
   "pygments_lexer": "ipython3",
   "version": "3.8.12"
  }
 },
 "nbformat": 4,
 "nbformat_minor": 5
}
