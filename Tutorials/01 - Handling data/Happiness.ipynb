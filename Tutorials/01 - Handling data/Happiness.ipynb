{
 "cells": [
  {
   "cell_type": "code",
   "execution_count": 72,
   "metadata": {},
   "outputs": [],
   "source": [
    "import pandas as pd\n",
    "import os"
   ]
  },
  {
   "cell_type": "markdown",
   "metadata": {},
   "source": [
    "## Data from World Happiness Report\n",
    "\n",
    "The World Happiness Report is an annual publication of the United Nations Sustainable Development Solutions Network. It contains articles, and rankings of national happiness based on respondent ratings of their own lives, which the report also correlates with various life factors.\n",
    "\n",
    "In this notebook we will explore the happiness of different countries and the features associated.\n",
    "The datasets that we will use are available in *Data*: **happiness2020.pkl** and **countries_info.csv**.\n",
    "\n",
    "Although the features are self-explanatory, here a summary: \n",
    "\n",
    "**happiness2020.pkl**\n",
    "* country: *Name of the country*\n",
    "* happiness_score: *Happiness score*\n",
    "* social_support: *Social support (mitigation the effects of inequality)*\n",
    "* healthy_life_expectancy: *Healthy Life Expectancy*\n",
    "* freedom_of_choices: *Freedom to make life choices*\n",
    "* generosity: *Generosity (charity, volunteers)*\n",
    "* perception_of_corruption: *Corruption Perception*\n",
    "* world_region: *Area of the world of the country*\n",
    "\n",
    "**countries_info.csv**\n",
    "* country_name: *Name of the country*\n",
    "* area: *Area in sq mi*\n",
    "* population: *Number of people*\n",
    "* literacy: *Literacy percentage*"
   ]
  },
  {
   "cell_type": "code",
   "execution_count": 73,
   "metadata": {},
   "outputs": [
    {
     "name": "stdout",
     "output_type": "stream",
     "text": [
      "country_name,area,population,literacy\n",
      "afghanistan,647500,31056997,\"36,0\"\n",
      "albania,28748,3581655,\"86,5\"\n",
      "algeria,2381740,32930091,\"70,0\"\n",
      "argentina,2766890,39921833,\"97,1\"\n",
      "armenia,29800,2976372,\"98,6\"\n",
      "australia,7686850,20264082,\"100,0\"\n",
      "austria,83870,8192880,\"98,0\"\n",
      "azerbaijan,86600,7961619,\"97,0\"\n",
      "bahrain,665,698585,\"89,1\"\n"
     ]
    }
   ],
   "source": [
    "!head Data/countries_info.csv"
   ]
  },
  {
   "cell_type": "code",
   "execution_count": 74,
   "metadata": {},
   "outputs": [],
   "source": [
    "import pandas as pd\n",
    "%matplotlib inline\n",
    "COUNTRIES_DATASET = DATA_FOLDER+\"countries_info.csv\""
   ]
  },
  {
   "cell_type": "markdown",
   "metadata": {},
   "source": [
    "## Task 1: Load the data\n",
    "\n",
    "Load the 2 datasets in Pandas dataframes (called *happiness* and *countries*), and show the first rows.\n",
    "\n",
    "\n",
    "**Hint**: Use the correct reader and verify the data has the expected format."
   ]
  },
  {
   "cell_type": "code",
   "execution_count": 75,
   "metadata": {},
   "outputs": [],
   "source": [
    "PATH_IN = './data/'\n",
    "fname_h = os.path.join(PATH_IN, 'happiness2020.csv')\n",
    "df_happiness= pd.read_csv(fname_h, decimal=',')\n",
    "df_happiness.country = df_happiness.country.apply(lambda r: r.lower())\n",
    "\n",
    "fname_c = os.path.join(PATH_IN, 'countries_info.csv')\n",
    "df_countries= pd.read_csv(fname_c, decimal=',')\n",
    "df_countries.rename(columns={'country_name': 'country'}, inplace=True)"
   ]
  },
  {
   "cell_type": "code",
   "execution_count": 76,
   "metadata": {},
   "outputs": [
    {
     "data": {
      "text/html": [
       "<div>\n",
       "<style scoped>\n",
       "    .dataframe tbody tr th:only-of-type {\n",
       "        vertical-align: middle;\n",
       "    }\n",
       "\n",
       "    .dataframe tbody tr th {\n",
       "        vertical-align: top;\n",
       "    }\n",
       "\n",
       "    .dataframe thead th {\n",
       "        text-align: right;\n",
       "    }\n",
       "</style>\n",
       "<table border=\"1\" class=\"dataframe\">\n",
       "  <thead>\n",
       "    <tr style=\"text-align: right;\">\n",
       "      <th></th>\n",
       "      <th>country</th>\n",
       "      <th>happiness_score</th>\n",
       "      <th>social_support</th>\n",
       "      <th>healthy_life_expectancy</th>\n",
       "      <th>freedom_of_choices</th>\n",
       "      <th>generosity</th>\n",
       "      <th>perception_of_corruption</th>\n",
       "      <th>world_region</th>\n",
       "    </tr>\n",
       "  </thead>\n",
       "  <tbody>\n",
       "    <tr>\n",
       "      <th>0</th>\n",
       "      <td>afghanistan</td>\n",
       "      <td>2.566900015</td>\n",
       "      <td>0.470366955</td>\n",
       "      <td>52.59000015</td>\n",
       "      <td>0.39657300700000003</td>\n",
       "      <td>-0.0964294</td>\n",
       "      <td>0.9336865540000001</td>\n",
       "      <td>South Asia</td>\n",
       "    </tr>\n",
       "    <tr>\n",
       "      <th>1</th>\n",
       "      <td>albania</td>\n",
       "      <td>4.882699966000001</td>\n",
       "      <td>0.671070457</td>\n",
       "      <td>68.70813751</td>\n",
       "      <td>0.7819942240000001</td>\n",
       "      <td>-0.042309489000000006</td>\n",
       "      <td>0.896303713</td>\n",
       "      <td>Central and Eastern Europe</td>\n",
       "    </tr>\n",
       "    <tr>\n",
       "      <th>2</th>\n",
       "      <td>algeria</td>\n",
       "      <td>5.005099773</td>\n",
       "      <td>0.8033851390000001</td>\n",
       "      <td>65.90517426</td>\n",
       "      <td>0.46661090899999996</td>\n",
       "      <td>-0.121105164</td>\n",
       "      <td>0.7354851370000001</td>\n",
       "      <td>Middle East and North Africa</td>\n",
       "    </tr>\n",
       "    <tr>\n",
       "      <th>3</th>\n",
       "      <td>argentina</td>\n",
       "      <td>5.974699974</td>\n",
       "      <td>0.900567949</td>\n",
       "      <td>68.80380249</td>\n",
       "      <td>0.831132412</td>\n",
       "      <td>-0.194913864</td>\n",
       "      <td>0.8420098420000001</td>\n",
       "      <td>Latin America and Caribbean</td>\n",
       "    </tr>\n",
       "    <tr>\n",
       "      <th>4</th>\n",
       "      <td>armenia</td>\n",
       "      <td>4.676799774</td>\n",
       "      <td>0.7574794290000001</td>\n",
       "      <td>66.75065613</td>\n",
       "      <td>0.7120178340000001</td>\n",
       "      <td>-0.13877961</td>\n",
       "      <td>0.7735447879999999</td>\n",
       "      <td>Commonwealth of Independent States</td>\n",
       "    </tr>\n",
       "  </tbody>\n",
       "</table>\n",
       "</div>"
      ],
      "text/plain": [
       "       country    happiness_score      social_support healthy_life_expectancy  \\\n",
       "0  afghanistan        2.566900015         0.470366955             52.59000015   \n",
       "1      albania  4.882699966000001         0.671070457             68.70813751   \n",
       "2      algeria        5.005099773  0.8033851390000001             65.90517426   \n",
       "3    argentina        5.974699974         0.900567949             68.80380249   \n",
       "4      armenia        4.676799774  0.7574794290000001             66.75065613   \n",
       "\n",
       "    freedom_of_choices             generosity perception_of_corruption  \\\n",
       "0  0.39657300700000003             -0.0964294       0.9336865540000001   \n",
       "1   0.7819942240000001  -0.042309489000000006              0.896303713   \n",
       "2  0.46661090899999996           -0.121105164       0.7354851370000001   \n",
       "3          0.831132412           -0.194913864       0.8420098420000001   \n",
       "4   0.7120178340000001            -0.13877961       0.7735447879999999   \n",
       "\n",
       "                         world_region  \n",
       "0                          South Asia  \n",
       "1          Central and Eastern Europe  \n",
       "2        Middle East and North Africa  \n",
       "3         Latin America and Caribbean  \n",
       "4  Commonwealth of Independent States  "
      ]
     },
     "execution_count": 76,
     "metadata": {},
     "output_type": "execute_result"
    }
   ],
   "source": [
    "df_happiness.head(5)"
   ]
  },
  {
   "cell_type": "code",
   "execution_count": 77,
   "metadata": {},
   "outputs": [
    {
     "data": {
      "text/html": [
       "<div>\n",
       "<style scoped>\n",
       "    .dataframe tbody tr th:only-of-type {\n",
       "        vertical-align: middle;\n",
       "    }\n",
       "\n",
       "    .dataframe tbody tr th {\n",
       "        vertical-align: top;\n",
       "    }\n",
       "\n",
       "    .dataframe thead th {\n",
       "        text-align: right;\n",
       "    }\n",
       "</style>\n",
       "<table border=\"1\" class=\"dataframe\">\n",
       "  <thead>\n",
       "    <tr style=\"text-align: right;\">\n",
       "      <th></th>\n",
       "      <th>country</th>\n",
       "      <th>area</th>\n",
       "      <th>population</th>\n",
       "      <th>literacy</th>\n",
       "    </tr>\n",
       "  </thead>\n",
       "  <tbody>\n",
       "    <tr>\n",
       "      <th>0</th>\n",
       "      <td>afghanistan</td>\n",
       "      <td>647500</td>\n",
       "      <td>31056997</td>\n",
       "      <td>36.0</td>\n",
       "    </tr>\n",
       "    <tr>\n",
       "      <th>1</th>\n",
       "      <td>albania</td>\n",
       "      <td>28748</td>\n",
       "      <td>3581655</td>\n",
       "      <td>86.5</td>\n",
       "    </tr>\n",
       "    <tr>\n",
       "      <th>2</th>\n",
       "      <td>algeria</td>\n",
       "      <td>2381740</td>\n",
       "      <td>32930091</td>\n",
       "      <td>70.0</td>\n",
       "    </tr>\n",
       "    <tr>\n",
       "      <th>3</th>\n",
       "      <td>argentina</td>\n",
       "      <td>2766890</td>\n",
       "      <td>39921833</td>\n",
       "      <td>97.1</td>\n",
       "    </tr>\n",
       "    <tr>\n",
       "      <th>4</th>\n",
       "      <td>armenia</td>\n",
       "      <td>29800</td>\n",
       "      <td>2976372</td>\n",
       "      <td>98.6</td>\n",
       "    </tr>\n",
       "  </tbody>\n",
       "</table>\n",
       "</div>"
      ],
      "text/plain": [
       "       country     area  population  literacy\n",
       "0  afghanistan   647500    31056997      36.0\n",
       "1      albania    28748     3581655      86.5\n",
       "2      algeria  2381740    32930091      70.0\n",
       "3    argentina  2766890    39921833      97.1\n",
       "4      armenia    29800     2976372      98.6"
      ]
     },
     "execution_count": 77,
     "metadata": {},
     "output_type": "execute_result"
    }
   ],
   "source": [
    "df_countries.head(5)"
   ]
  },
  {
   "cell_type": "markdown",
   "metadata": {},
   "source": [
    "## Task 2: Let's merge the data\n",
    "\n",
    "Create a dataframe called *country_features* by merging *happiness* and *countries*. A row of this dataframe must describe all the features that we have about a country.\n",
    "\n",
    "**Hint**: Verify to have all the rows in the final dataframe"
   ]
  },
  {
   "cell_type": "code",
   "execution_count": 88,
   "metadata": {},
   "outputs": [],
   "source": [
    "country_features = pd.merge(df_happiness, df_countries, on=\"country\")"
   ]
  },
  {
   "cell_type": "code",
   "execution_count": 89,
   "metadata": {},
   "outputs": [
    {
     "data": {
      "text/html": [
       "<div>\n",
       "<style scoped>\n",
       "    .dataframe tbody tr th:only-of-type {\n",
       "        vertical-align: middle;\n",
       "    }\n",
       "\n",
       "    .dataframe tbody tr th {\n",
       "        vertical-align: top;\n",
       "    }\n",
       "\n",
       "    .dataframe thead th {\n",
       "        text-align: right;\n",
       "    }\n",
       "</style>\n",
       "<table border=\"1\" class=\"dataframe\">\n",
       "  <thead>\n",
       "    <tr style=\"text-align: right;\">\n",
       "      <th></th>\n",
       "      <th>country</th>\n",
       "      <th>happiness_score</th>\n",
       "      <th>social_support</th>\n",
       "      <th>healthy_life_expectancy</th>\n",
       "      <th>freedom_of_choices</th>\n",
       "      <th>generosity</th>\n",
       "      <th>perception_of_corruption</th>\n",
       "      <th>world_region</th>\n",
       "      <th>country_name</th>\n",
       "      <th>area</th>\n",
       "      <th>population</th>\n",
       "      <th>literacy</th>\n",
       "    </tr>\n",
       "  </thead>\n",
       "  <tbody>\n",
       "    <tr>\n",
       "      <th>0</th>\n",
       "      <td>afghanistan</td>\n",
       "      <td>2.566900015</td>\n",
       "      <td>0.470366955</td>\n",
       "      <td>52.59000015</td>\n",
       "      <td>0.39657300700000003</td>\n",
       "      <td>-0.0964294</td>\n",
       "      <td>0.9336865540000001</td>\n",
       "      <td>South Asia</td>\n",
       "      <td>afghanistan</td>\n",
       "      <td>647500</td>\n",
       "      <td>31056997</td>\n",
       "      <td>36.0</td>\n",
       "    </tr>\n",
       "    <tr>\n",
       "      <th>1</th>\n",
       "      <td>albania</td>\n",
       "      <td>4.882699966000001</td>\n",
       "      <td>0.671070457</td>\n",
       "      <td>68.70813751</td>\n",
       "      <td>0.7819942240000001</td>\n",
       "      <td>-0.042309489000000006</td>\n",
       "      <td>0.896303713</td>\n",
       "      <td>Central and Eastern Europe</td>\n",
       "      <td>albania</td>\n",
       "      <td>28748</td>\n",
       "      <td>3581655</td>\n",
       "      <td>86.5</td>\n",
       "    </tr>\n",
       "    <tr>\n",
       "      <th>2</th>\n",
       "      <td>algeria</td>\n",
       "      <td>5.005099773</td>\n",
       "      <td>0.8033851390000001</td>\n",
       "      <td>65.90517426</td>\n",
       "      <td>0.46661090899999996</td>\n",
       "      <td>-0.121105164</td>\n",
       "      <td>0.7354851370000001</td>\n",
       "      <td>Middle East and North Africa</td>\n",
       "      <td>algeria</td>\n",
       "      <td>2381740</td>\n",
       "      <td>32930091</td>\n",
       "      <td>70.0</td>\n",
       "    </tr>\n",
       "    <tr>\n",
       "      <th>3</th>\n",
       "      <td>argentina</td>\n",
       "      <td>5.974699974</td>\n",
       "      <td>0.900567949</td>\n",
       "      <td>68.80380249</td>\n",
       "      <td>0.831132412</td>\n",
       "      <td>-0.194913864</td>\n",
       "      <td>0.8420098420000001</td>\n",
       "      <td>Latin America and Caribbean</td>\n",
       "      <td>argentina</td>\n",
       "      <td>2766890</td>\n",
       "      <td>39921833</td>\n",
       "      <td>97.1</td>\n",
       "    </tr>\n",
       "    <tr>\n",
       "      <th>4</th>\n",
       "      <td>armenia</td>\n",
       "      <td>4.676799774</td>\n",
       "      <td>0.7574794290000001</td>\n",
       "      <td>66.75065613</td>\n",
       "      <td>0.7120178340000001</td>\n",
       "      <td>-0.13877961</td>\n",
       "      <td>0.7735447879999999</td>\n",
       "      <td>Commonwealth of Independent States</td>\n",
       "      <td>armenia</td>\n",
       "      <td>29800</td>\n",
       "      <td>2976372</td>\n",
       "      <td>98.6</td>\n",
       "    </tr>\n",
       "  </tbody>\n",
       "</table>\n",
       "</div>"
      ],
      "text/plain": [
       "       country    happiness_score      social_support healthy_life_expectancy  \\\n",
       "0  afghanistan        2.566900015         0.470366955             52.59000015   \n",
       "1      albania  4.882699966000001         0.671070457             68.70813751   \n",
       "2      algeria        5.005099773  0.8033851390000001             65.90517426   \n",
       "3    argentina        5.974699974         0.900567949             68.80380249   \n",
       "4      armenia        4.676799774  0.7574794290000001             66.75065613   \n",
       "\n",
       "    freedom_of_choices             generosity perception_of_corruption  \\\n",
       "0  0.39657300700000003             -0.0964294       0.9336865540000001   \n",
       "1   0.7819942240000001  -0.042309489000000006              0.896303713   \n",
       "2  0.46661090899999996           -0.121105164       0.7354851370000001   \n",
       "3          0.831132412           -0.194913864       0.8420098420000001   \n",
       "4   0.7120178340000001            -0.13877961       0.7735447879999999   \n",
       "\n",
       "                         world_region country_name     area  population  \\\n",
       "0                          South Asia  afghanistan   647500    31056997   \n",
       "1          Central and Eastern Europe      albania    28748     3581655   \n",
       "2        Middle East and North Africa      algeria  2381740    32930091   \n",
       "3         Latin America and Caribbean    argentina  2766890    39921833   \n",
       "4  Commonwealth of Independent States      armenia    29800     2976372   \n",
       "\n",
       "   literacy  \n",
       "0      36.0  \n",
       "1      86.5  \n",
       "2      70.0  \n",
       "3      97.1  \n",
       "4      98.6  "
      ]
     },
     "execution_count": 89,
     "metadata": {},
     "output_type": "execute_result"
    }
   ],
   "source": [
    "country_features.head(5)"
   ]
  },
  {
   "cell_type": "markdown",
   "metadata": {},
   "source": [
    "## Task 3: Where do people are happier?\n",
    "\n",
    "Print the top 10 countries based on their happiness score (high is better)."
   ]
  },
  {
   "cell_type": "code",
   "execution_count": 80,
   "metadata": {},
   "outputs": [
    {
     "name": "stdout",
     "output_type": "stream",
     "text": [
      "Top 10 countries based on their happiness score:\n",
      "- finland\n",
      "- denmark\n",
      "- switzerland\n",
      "- iceland\n",
      "- norway\n",
      "- netherlands\n",
      "- sweden\n",
      "- new zealand\n",
      "- austria\n",
      "- luxembourg\n"
     ]
    }
   ],
   "source": [
    "print('Top 10 countries based on their happiness score:')\n",
    "top_10 = country_features.sort_values(by=['happiness_score'],ascending=False).country.values[:10]\n",
    "for x in top_10:\n",
    "    print('- '+x)"
   ]
  },
  {
   "cell_type": "markdown",
   "metadata": {},
   "source": [
    "We are interested to know in what world region the people are happier. \n",
    "\n",
    "Create and print a dataframe with the (1) average happiness score and (2) the number of contries for each world region.\n",
    "Sort the result to show the happiness ranking."
   ]
  },
  {
   "cell_type": "markdown",
   "metadata": {},
   "source": [
    "The first region has only a few countries! What are them and what is their score?"
   ]
  },
  {
   "cell_type": "code",
   "execution_count": 90,
   "metadata": {},
   "outputs": [
    {
     "data": {
      "text/html": [
       "<div>\n",
       "<style scoped>\n",
       "    .dataframe tbody tr th:only-of-type {\n",
       "        vertical-align: middle;\n",
       "    }\n",
       "\n",
       "    .dataframe tbody tr th {\n",
       "        vertical-align: top;\n",
       "    }\n",
       "\n",
       "    .dataframe thead th {\n",
       "        text-align: right;\n",
       "    }\n",
       "</style>\n",
       "<table border=\"1\" class=\"dataframe\">\n",
       "  <thead>\n",
       "    <tr style=\"text-align: right;\">\n",
       "      <th></th>\n",
       "      <th>country</th>\n",
       "      <th>happiness_score</th>\n",
       "    </tr>\n",
       "  </thead>\n",
       "  <tbody>\n",
       "    <tr>\n",
       "      <th>5</th>\n",
       "      <td>australia</td>\n",
       "      <td>7.222799778</td>\n",
       "    </tr>\n",
       "    <tr>\n",
       "      <th>21</th>\n",
       "      <td>canada</td>\n",
       "      <td>7.23210001</td>\n",
       "    </tr>\n",
       "    <tr>\n",
       "      <th>88</th>\n",
       "      <td>new zealand</td>\n",
       "      <td>7.2996001239999995</td>\n",
       "    </tr>\n",
       "    <tr>\n",
       "      <th>127</th>\n",
       "      <td>united states</td>\n",
       "      <td>6.939599991000001</td>\n",
       "    </tr>\n",
       "  </tbody>\n",
       "</table>\n",
       "</div>"
      ],
      "text/plain": [
       "           country     happiness_score\n",
       "5        australia         7.222799778\n",
       "21          canada          7.23210001\n",
       "88     new zealand  7.2996001239999995\n",
       "127  united states   6.939599991000001"
      ]
     },
     "execution_count": 90,
     "metadata": {},
     "output_type": "execute_result"
    }
   ],
   "source": [
    "country_features[country_features.world_region=='North America and ANZ'][['country', 'happiness_score']]"
   ]
  },
  {
   "cell_type": "markdown",
   "metadata": {},
   "source": [
    "## Task 4: How literate is the world?\n",
    "\n",
    "Print the name of countries with a level of literacy of 100%. \n",
    "\n",
    "For each country, print the name and the world region with the format: *{region name} - {country name} ({happiness score})*"
   ]
  },
  {
   "cell_type": "code",
   "execution_count": 91,
   "metadata": {},
   "outputs": [
    {
     "data": {
      "text/html": [
       "<div>\n",
       "<style scoped>\n",
       "    .dataframe tbody tr th:only-of-type {\n",
       "        vertical-align: middle;\n",
       "    }\n",
       "\n",
       "    .dataframe tbody tr th {\n",
       "        vertical-align: top;\n",
       "    }\n",
       "\n",
       "    .dataframe thead th {\n",
       "        text-align: right;\n",
       "    }\n",
       "</style>\n",
       "<table border=\"1\" class=\"dataframe\">\n",
       "  <thead>\n",
       "    <tr style=\"text-align: right;\">\n",
       "      <th></th>\n",
       "      <th>country</th>\n",
       "      <th>happiness_score</th>\n",
       "      <th>social_support</th>\n",
       "      <th>healthy_life_expectancy</th>\n",
       "      <th>freedom_of_choices</th>\n",
       "      <th>generosity</th>\n",
       "      <th>perception_of_corruption</th>\n",
       "      <th>world_region</th>\n",
       "      <th>country_name</th>\n",
       "      <th>area</th>\n",
       "      <th>population</th>\n",
       "      <th>literacy</th>\n",
       "    </tr>\n",
       "  </thead>\n",
       "  <tbody>\n",
       "    <tr>\n",
       "      <th>0</th>\n",
       "      <td>afghanistan</td>\n",
       "      <td>2.566900015</td>\n",
       "      <td>0.470366955</td>\n",
       "      <td>52.59000015</td>\n",
       "      <td>0.39657300700000003</td>\n",
       "      <td>-0.0964294</td>\n",
       "      <td>0.9336865540000001</td>\n",
       "      <td>South Asia</td>\n",
       "      <td>afghanistan</td>\n",
       "      <td>647500</td>\n",
       "      <td>31056997</td>\n",
       "      <td>36.0</td>\n",
       "    </tr>\n",
       "    <tr>\n",
       "      <th>1</th>\n",
       "      <td>albania</td>\n",
       "      <td>4.882699966000001</td>\n",
       "      <td>0.671070457</td>\n",
       "      <td>68.70813751</td>\n",
       "      <td>0.7819942240000001</td>\n",
       "      <td>-0.042309489000000006</td>\n",
       "      <td>0.896303713</td>\n",
       "      <td>Central and Eastern Europe</td>\n",
       "      <td>albania</td>\n",
       "      <td>28748</td>\n",
       "      <td>3581655</td>\n",
       "      <td>86.5</td>\n",
       "    </tr>\n",
       "    <tr>\n",
       "      <th>2</th>\n",
       "      <td>algeria</td>\n",
       "      <td>5.005099773</td>\n",
       "      <td>0.8033851390000001</td>\n",
       "      <td>65.90517426</td>\n",
       "      <td>0.46661090899999996</td>\n",
       "      <td>-0.121105164</td>\n",
       "      <td>0.7354851370000001</td>\n",
       "      <td>Middle East and North Africa</td>\n",
       "      <td>algeria</td>\n",
       "      <td>2381740</td>\n",
       "      <td>32930091</td>\n",
       "      <td>70.0</td>\n",
       "    </tr>\n",
       "    <tr>\n",
       "      <th>3</th>\n",
       "      <td>argentina</td>\n",
       "      <td>5.974699974</td>\n",
       "      <td>0.900567949</td>\n",
       "      <td>68.80380249</td>\n",
       "      <td>0.831132412</td>\n",
       "      <td>-0.194913864</td>\n",
       "      <td>0.8420098420000001</td>\n",
       "      <td>Latin America and Caribbean</td>\n",
       "      <td>argentina</td>\n",
       "      <td>2766890</td>\n",
       "      <td>39921833</td>\n",
       "      <td>97.1</td>\n",
       "    </tr>\n",
       "    <tr>\n",
       "      <th>4</th>\n",
       "      <td>armenia</td>\n",
       "      <td>4.676799774</td>\n",
       "      <td>0.7574794290000001</td>\n",
       "      <td>66.75065613</td>\n",
       "      <td>0.7120178340000001</td>\n",
       "      <td>-0.13877961</td>\n",
       "      <td>0.7735447879999999</td>\n",
       "      <td>Commonwealth of Independent States</td>\n",
       "      <td>armenia</td>\n",
       "      <td>29800</td>\n",
       "      <td>2976372</td>\n",
       "      <td>98.6</td>\n",
       "    </tr>\n",
       "  </tbody>\n",
       "</table>\n",
       "</div>"
      ],
      "text/plain": [
       "       country    happiness_score      social_support healthy_life_expectancy  \\\n",
       "0  afghanistan        2.566900015         0.470366955             52.59000015   \n",
       "1      albania  4.882699966000001         0.671070457             68.70813751   \n",
       "2      algeria        5.005099773  0.8033851390000001             65.90517426   \n",
       "3    argentina        5.974699974         0.900567949             68.80380249   \n",
       "4      armenia        4.676799774  0.7574794290000001             66.75065613   \n",
       "\n",
       "    freedom_of_choices             generosity perception_of_corruption  \\\n",
       "0  0.39657300700000003             -0.0964294       0.9336865540000001   \n",
       "1   0.7819942240000001  -0.042309489000000006              0.896303713   \n",
       "2  0.46661090899999996           -0.121105164       0.7354851370000001   \n",
       "3          0.831132412           -0.194913864       0.8420098420000001   \n",
       "4   0.7120178340000001            -0.13877961       0.7735447879999999   \n",
       "\n",
       "                         world_region country_name     area  population  \\\n",
       "0                          South Asia  afghanistan   647500    31056997   \n",
       "1          Central and Eastern Europe      albania    28748     3581655   \n",
       "2        Middle East and North Africa      algeria  2381740    32930091   \n",
       "3         Latin America and Caribbean    argentina  2766890    39921833   \n",
       "4  Commonwealth of Independent States      armenia    29800     2976372   \n",
       "\n",
       "   literacy  \n",
       "0      36.0  \n",
       "1      86.5  \n",
       "2      70.0  \n",
       "3      97.1  \n",
       "4      98.6  "
      ]
     },
     "execution_count": 91,
     "metadata": {},
     "output_type": "execute_result"
    }
   ],
   "source": [
    "country_features.head(5)"
   ]
  },
  {
   "cell_type": "code",
   "execution_count": 92,
   "metadata": {},
   "outputs": [],
   "source": [
    "for idx, row in country_features[country_features.literacy=='100,0'].iterrows():\n",
    "    print(\"{} - {} ({})\".format(row.world_region, row.country, row.happiness_score))"
   ]
  },
  {
   "cell_type": "markdown",
   "metadata": {},
   "source": [
    "What is the global average?"
   ]
  },
  {
   "cell_type": "code",
   "execution_count": 93,
   "metadata": {},
   "outputs": [
    {
     "data": {
      "text/plain": [
       "81.85112781954886"
      ]
     },
     "execution_count": 93,
     "metadata": {},
     "output_type": "execute_result"
    }
   ],
   "source": [
    "country_features.literacy.mean()"
   ]
  },
  {
   "cell_type": "markdown",
   "metadata": {},
   "source": [
    "Calculate the proportion of countries with a literacy level below 50%. Print the value in percentage, formatted with 2 decimals."
   ]
  },
  {
   "cell_type": "code",
   "execution_count": 96,
   "metadata": {},
   "outputs": [
    {
     "name": "stdout",
     "output_type": "stream",
     "text": [
      "Percentage of countries with literacy level < 50%: 11.85%\n"
     ]
    }
   ],
   "source": [
    "percentage = len(country_features[country_features.literacy<50])/len(country_features)\n",
    "print(\"Percentage of countries with literacy level < 50%: {:.2%}\".format(percentage))"
   ]
  },
  {
   "cell_type": "markdown",
   "metadata": {},
   "source": [
    "Print the raw number and the percentage of world population that is illiterate."
   ]
  },
  {
   "cell_type": "code",
   "execution_count": 97,
   "metadata": {},
   "outputs": [
    {
     "name": "stdout",
     "output_type": "stream",
     "text": [
      "Illiterate people: 1249372988 (20.33%)\n"
     ]
    }
   ],
   "source": [
    "illiterate_people = country_features.population * (100 - country_features.literacy)/100\n",
    "illiterate_fraction = illiterate_people.sum() / country_features.population.sum()\n",
    "\n",
    "print(\"Illiterate people: {:.0f} ({:.2%})\".format(illiterate_people.sum(), illiterate_fraction))"
   ]
  },
  {
   "cell_type": "markdown",
   "metadata": {},
   "source": [
    "## Task 5: Population density\n",
    "\n",
    "Add to the dataframe a new field called *population_density* computed by dividing *population* by *area*."
   ]
  },
  {
   "cell_type": "code",
   "execution_count": null,
   "metadata": {},
   "outputs": [],
   "source": [
    "# Write your code here"
   ]
  },
  {
   "cell_type": "markdown",
   "metadata": {},
   "source": [
    "What is the happiness score of the 3 countries with lowest population density?"
   ]
  },
  {
   "cell_type": "code",
   "execution_count": null,
   "metadata": {},
   "outputs": [],
   "source": [
    "# Write your code here"
   ]
  },
  {
   "cell_type": "markdown",
   "metadata": {},
   "source": [
    "## Task 6: Healty and happy?\n",
    "\n",
    "Plot in scatter plot the happiness score (x) and healty like expectancy (y)."
   ]
  },
  {
   "cell_type": "code",
   "execution_count": null,
   "metadata": {},
   "outputs": [],
   "source": [
    "# Write your code here"
   ]
  },
  {
   "cell_type": "markdown",
   "metadata": {},
   "source": [
    "Feel free to continue the exploration of the dataset! We'll release the solutions next week.\n",
    "\n",
    "----\n",
    "Enjoy EPFL and be happy, next year Switzerland must be #1."
   ]
  }
 ],
 "metadata": {
  "kernelspec": {
   "display_name": "Python 3 (ipykernel)",
   "language": "python",
   "name": "python3"
  },
  "language_info": {
   "codemirror_mode": {
    "name": "ipython",
    "version": 3
   },
   "file_extension": ".py",
   "mimetype": "text/x-python",
   "name": "python",
   "nbconvert_exporter": "python",
   "pygments_lexer": "ipython3",
   "version": "3.9.7"
  }
 },
 "nbformat": 4,
 "nbformat_minor": 4
}
